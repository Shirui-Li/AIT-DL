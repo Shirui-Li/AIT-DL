{
  "nbformat": 4,
  "nbformat_minor": 0,
  "metadata": {
    "anaconda-cloud": {},
    "kernelspec": {
      "display_name": "Python 3",
      "name": "python3"
    },
    "language_info": {
      "codemirror_mode": {
        "name": "ipython",
        "version": 3
      },
      "file_extension": ".py",
      "mimetype": "text/x-python",
      "name": "python",
      "nbconvert_exporter": "python",
      "pygments_lexer": "ipython3",
      "version": "3.6.6"
    },
    "colab": {
      "provenance": [],
      "gpuType": "T4",
      "include_colab_link": true
    },
    "accelerator": "GPU"
  },
  "cells": [
    {
      "cell_type": "markdown",
      "metadata": {
        "id": "view-in-github",
        "colab_type": "text"
      },
      "source": [
        "<a href=\"https://colab.research.google.com/github/Shirui-Li/AIT-DL/blob/main/07_AIT_CNN_CIFAR10_exercise.ipynb\" target=\"_parent\"><img src=\"https://colab.research.google.com/assets/colab-badge.svg\" alt=\"Open In Colab\"/></a>"
      ]
    },
    {
      "cell_type": "markdown",
      "metadata": {
        "id": "cW-EyI5Lxpqi"
      },
      "source": [
        "# Copyright\n",
        "\n",
        "<PRE>\n",
        "Copyright (c) 2024 Bálint Gyires-Tóth - All Rights Reserved\n",
        "You may use and modify this code for research and development purpuses.\n",
        "Using this code for educational purposes (self-paced or instructor led) without the permission of the author is prohibited.\n",
        "</PRE>"
      ]
    },
    {
      "cell_type": "markdown",
      "source": [
        "# Convolutional Neural Network exercise\n",
        "\n",
        "In this notebook, you will build a convolutional neural network, which offers superior results over the previous MLP solution. Additionally, you will perform a more detailed evaluation."
      ],
      "metadata": {
        "id": "3EX4cCa4WKJu"
      }
    },
    {
      "cell_type": "code",
      "source": [
        "# imports\n",
        "from tensorflow.keras.datasets import cifar10\n",
        "from tensorflow.keras.utils import to_categorical\n",
        "import numpy as np\n",
        "import matplotlib.pyplot as plt\n",
        "from tensorflow.keras.models import Sequential\n",
        "from tensorflow.keras.layers import Dense, Conv2D, MaxPool2D, Flatten, Dropout, BatchNormalization\n",
        "from tensorflow.keras.initializers import HeNormal\n",
        "from tensorflow.keras.callbacks import EarlyStopping"
      ],
      "metadata": {
        "id": "GdCMhy4HA2qd"
      },
      "execution_count": null,
      "outputs": []
    },
    {
      "cell_type": "markdown",
      "source": [
        "# 1. Data\n",
        "The dataset we will use is the well-known CIFAR10 (Canadian Institute For Advanced Research). Explore the details on the Keras website first: https://keras.io/api/datasets/cifar10/\n",
        "\n",
        "There isn't much difference between the data preprocessing part and the one we did before. The only difference is that we don't have to reshape images into vectors, but we are working with a 4 dimensional data structure, where the dimensions are: batch, X, Y, and color channels.\n",
        "\n",
        "In the event that anything is not clear regarding the data preparation part, please check the previous CIFAR10 notebook."
      ],
      "metadata": {
        "id": "yY9fztIeWIKt"
      }
    },
    {
      "cell_type": "code",
      "source": [
        "(X_train, Y_train), (X_test, Y_test) = cifar10.load_data()"
      ],
      "metadata": {
        "id": "bez7q0eiWQCK",
        "colab": {
          "base_uri": "https://localhost:8080/"
        },
        "outputId": "c9962421-f9cc-4a21-9c6c-aa2ba98f1a4b"
      },
      "execution_count": null,
      "outputs": [
        {
          "output_type": "stream",
          "name": "stdout",
          "text": [
            "Downloading data from https://www.cs.toronto.edu/~kriz/cifar-10-python.tar.gz\n",
            "170498071/170498071 [==============================] - 3s 0us/step\n"
          ]
        }
      ]
    },
    {
      "cell_type": "code",
      "source": [
        "# it is in int8 format, the neural network requires float32\n",
        "X_train = X_train.astype(\"float32\")\n",
        "X_test = X_test.astype(\"float32\")"
      ],
      "metadata": {
        "id": "vukOcBM0XzSj"
      },
      "execution_count": null,
      "outputs": []
    },
    {
      "cell_type": "code",
      "source": [
        "train_ratio  = 0.8\n",
        "train_length = X_train.shape[0]\n",
        "train_split  = int(train_ratio*train_length)\n",
        "X_valid, Y_valid = X_train[train_split:], Y_train[train_split:]\n",
        "X_train, Y_train = X_train[:train_split], Y_train[:train_split]"
      ],
      "metadata": {
        "id": "mRwuWxxIxLgN"
      },
      "execution_count": null,
      "outputs": []
    },
    {
      "cell_type": "code",
      "source": [
        "mean = X_train.mean(axis=0)\n",
        "std  = X_train.std(axis=0)\n",
        "\n",
        "X_train = (X_train-mean)/std\n",
        "X_valid = (X_valid-mean)/std\n",
        "X_test  = (X_test-mean)/std"
      ],
      "metadata": {
        "id": "2ESLP1EIyB2J"
      },
      "execution_count": null,
      "outputs": []
    },
    {
      "cell_type": "code",
      "source": [
        "nb_classes = len(np.unique(Y_train))\n",
        "Y_train = to_categorical(Y_train, nb_classes)\n",
        "Y_valid = to_categorical(Y_valid, nb_classes)\n",
        "Y_test  = to_categorical(Y_test, nb_classes)"
      ],
      "metadata": {
        "id": "xwZ4OJ6I8lba"
      },
      "execution_count": null,
      "outputs": []
    },
    {
      "cell_type": "code",
      "source": [
        "print(\"Shapes of the training, validation and test input data:\", X_train.shape, X_valid.shape, X_test.shape)\n",
        "print(\"Shapes of the training, validation and test output data:\", Y_train.shape, Y_valid.shape, Y_test.shape)\n",
        "print(\"Mean values of the training, validation and test input data:\", X_train.mean(), X_valid.mean(), X_test.mean())\n",
        "print(\"Standard deviation of the training, validation and test input data:\", X_train.std(), X_valid.std(), X_test.std())"
      ],
      "metadata": {
        "id": "O_jdJVcvX0vi",
        "colab": {
          "base_uri": "https://localhost:8080/"
        },
        "outputId": "de74cf0f-0eb7-4022-bcb7-875450e670b5"
      },
      "execution_count": null,
      "outputs": [
        {
          "output_type": "stream",
          "name": "stdout",
          "text": [
            "Shapes of the training, validation and test input data: (40000, 32, 32, 3) (10000, 32, 32, 3) (10000, 32, 32, 3)\n",
            "Shapes of the training, validation and test output data: (40000, 10) (10000, 10) (10000, 10)\n",
            "Mean values of the training, validation and test input data: 2.2788842e-09 0.0023437198 0.013331206\n",
            "Standard deviation of the training, validation and test input data: 1.0000023 0.9965626 0.99783075\n"
          ]
        }
      ]
    },
    {
      "cell_type": "markdown",
      "metadata": {
        "id": "cJ14oyZExpqj"
      },
      "source": [
        "# 2. Exercise: training"
      ]
    },
    {
      "cell_type": "markdown",
      "source": [
        "Create and train a convolutional neural network with the following requirements:\n",
        "* apply early stopping with patience=5 and monitor the validation accuracy, don't forget to load back the best weights after early stopping\n",
        "* the number of trainable parameters is lower than 200.000\n",
        "* the validation accuracy must be higher than 72%\n",
        "\n",
        "Hints:\n",
        "* you can always inspect the number of trainable parameters per layer with model.summary()\n",
        "* usually the most trainable parameters are between the last convolutional layer and the next dense layer -- so you should have a reasonable output size at the last convolutional layer\n",
        "* regularization helps (e.g. DropOut and/or BatchNormalization)\n",
        "* use the right activation function at the output layer and the corresponding loss function\n",
        "* for the chosen activation functions, please use the appropriate initialization method\n",
        "* you can match the dimension of the last conv/pooling layer to the next dense layer with e.g. Flatten()\n",
        "* ADAM optimizer is a reasonable choice\n",
        "* don't forget to turn on GPU support in Colab, otherwise, it would be quite slow to train the networks\n",
        "\n"
      ],
      "metadata": {
        "id": "j1tGVPdD-pp3"
      }
    },
    {
      "cell_type": "code",
      "source": [
        "flattened_dim = X_train.shape[1] * X_train.shape[2] * X_train.shape[3]\n",
        "print(flattened_dim)"
      ],
      "metadata": {
        "colab": {
          "base_uri": "https://localhost:8080/"
        },
        "id": "Z07cex4SGEV4",
        "outputId": "fe396104-9766-436a-fe8d-25d9f6aa1961"
      },
      "execution_count": null,
      "outputs": [
        {
          "output_type": "stream",
          "name": "stdout",
          "text": [
            "3072\n"
          ]
        }
      ]
    },
    {
      "cell_type": "code",
      "source": [
        "es = EarlyStopping(monitor=\"val_accuracy\", patience=5, restore_best_weights=True) # early stopping"
      ],
      "metadata": {
        "id": "5dBQxJHIHrbd"
      },
      "execution_count": null,
      "outputs": []
    },
    {
      "cell_type": "code",
      "source": [
        "# model definition\n",
        "model = Sequential()\n",
        "\n",
        "model.add(Conv2D(32, 3, activation='relu',input_shape=(32, 32, 3)))\n",
        "model.add(MaxPool2D(pool_size=(2, 2)))\n",
        "model.add(Dropout(0.2))\n",
        "model.add(Conv2D(32, 3, activation='relu'))\n",
        "model.add(Dropout(0.2))\n",
        "model.add(Dense(64, activation='relu', kernel_initializer=HeNormal()))\n",
        "model.add(BatchNormalization(axis=-1,\n",
        "    momentum=0.99,\n",
        "    epsilon=0.001,\n",
        "    center=True,\n",
        "    scale=True,\n",
        "    beta_initializer='zeros',\n",
        "    gamma_initializer='ones',\n",
        "    moving_mean_initializer='zeros',\n",
        "    moving_variance_initializer='ones',\n",
        "    beta_regularizer=None,\n",
        "    gamma_regularizer=None,\n",
        "    beta_constraint=None,\n",
        "    gamma_constraint=None,\n",
        "    synchronized=False,))\n",
        "model.add(Dropout(0.2))\n",
        "model.add(Dense(64, activation='relu', kernel_initializer=HeNormal()))\n",
        "model.add(BatchNormalization(axis=-1,\n",
        "    momentum=0.99,\n",
        "    epsilon=0.001,\n",
        "    center=True,\n",
        "    scale=True,\n",
        "    beta_initializer='zeros',\n",
        "    gamma_initializer='ones',\n",
        "    moving_mean_initializer='zeros',\n",
        "    moving_variance_initializer='ones',\n",
        "    beta_regularizer=None,\n",
        "    gamma_regularizer=None,\n",
        "    beta_constraint=None,\n",
        "    gamma_constraint=None,\n",
        "    synchronized=False))\n",
        "model.add(Dropout(0.2))\n",
        "model.add(Flatten())\n",
        "model.add(Dense(10, activation='softmax'))\n",
        "\n",
        "# loss function and optimizer\n",
        "model.compile(loss='categorical_crossentropy', optimizer='adam', metrics=['accuracy'])"
      ],
      "metadata": {
        "id": "PuxHOqLt-3Nd"
      },
      "execution_count": null,
      "outputs": []
    },
    {
      "cell_type": "code",
      "source": [
        "model.summary()"
      ],
      "metadata": {
        "id": "5eomQw8uE9Ix",
        "colab": {
          "base_uri": "https://localhost:8080/"
        },
        "outputId": "ee5631e1-3592-4bb8-93f4-4fdb3509571d"
      },
      "execution_count": null,
      "outputs": [
        {
          "output_type": "stream",
          "name": "stdout",
          "text": [
            "Model: \"sequential\"\n",
            "_________________________________________________________________\n",
            " Layer (type)                Output Shape              Param #   \n",
            "=================================================================\n",
            " conv2d (Conv2D)             (None, 30, 30, 32)        896       \n",
            "                                                                 \n",
            " max_pooling2d (MaxPooling2  (None, 15, 15, 32)        0         \n",
            " D)                                                              \n",
            "                                                                 \n",
            " dropout (Dropout)           (None, 15, 15, 32)        0         \n",
            "                                                                 \n",
            " conv2d_1 (Conv2D)           (None, 13, 13, 32)        9248      \n",
            "                                                                 \n",
            " dropout_1 (Dropout)         (None, 13, 13, 32)        0         \n",
            "                                                                 \n",
            " dense (Dense)               (None, 13, 13, 64)        2112      \n",
            "                                                                 \n",
            " batch_normalization (Batch  (None, 13, 13, 64)        256       \n",
            " Normalization)                                                  \n",
            "                                                                 \n",
            " dropout_2 (Dropout)         (None, 13, 13, 64)        0         \n",
            "                                                                 \n",
            " dense_1 (Dense)             (None, 13, 13, 64)        4160      \n",
            "                                                                 \n",
            " batch_normalization_1 (Bat  (None, 13, 13, 64)        256       \n",
            " chNormalization)                                                \n",
            "                                                                 \n",
            " dropout_3 (Dropout)         (None, 13, 13, 64)        0         \n",
            "                                                                 \n",
            " flatten (Flatten)           (None, 10816)             0         \n",
            "                                                                 \n",
            " dense_2 (Dense)             (None, 10)                108170    \n",
            "                                                                 \n",
            "=================================================================\n",
            "Total params: 125098 (488.66 KB)\n",
            "Trainable params: 124842 (487.66 KB)\n",
            "Non-trainable params: 256 (1.00 KB)\n",
            "_________________________________________________________________\n"
          ]
        }
      ]
    },
    {
      "cell_type": "markdown",
      "source": [
        "Please, check the number of trainable paramers:"
      ],
      "metadata": {
        "id": "8tIbIIeTEI41"
      }
    },
    {
      "cell_type": "code",
      "source": [
        "print(\"#trainable parameters:\",model.count_params())"
      ],
      "metadata": {
        "id": "xdBAG7EJETlX",
        "colab": {
          "base_uri": "https://localhost:8080/"
        },
        "outputId": "bf552b91-f577-4d46-c20b-4c4d26f13527"
      },
      "execution_count": null,
      "outputs": [
        {
          "output_type": "stream",
          "name": "stdout",
          "text": [
            "#trainable parameters: 125098\n"
          ]
        }
      ]
    },
    {
      "cell_type": "code",
      "source": [
        "# training\n",
        "network_history = model.fit(X_train, Y_train,\n",
        "                            validation_data=(X_valid,Y_valid),\n",
        "                            batch_size=128,\n",
        "                            epochs=40,\n",
        "                            verbose=1,\n",
        "                            callbacks=[es])"
      ],
      "metadata": {
        "id": "u8tFNCNVHyt9",
        "colab": {
          "base_uri": "https://localhost:8080/"
        },
        "outputId": "c299e534-cc37-401f-f2ec-cb0070906645"
      },
      "execution_count": null,
      "outputs": [
        {
          "output_type": "stream",
          "name": "stdout",
          "text": [
            "Epoch 1/40\n",
            "313/313 [==============================] - 12s 15ms/step - loss: 2.0400 - accuracy: 0.3933 - val_loss: 2.0501 - val_accuracy: 0.3491\n",
            "Epoch 2/40\n",
            "313/313 [==============================] - 3s 11ms/step - loss: 1.5230 - accuracy: 0.5083 - val_loss: 1.4937 - val_accuracy: 0.5224\n",
            "Epoch 3/40\n",
            "313/313 [==============================] - 3s 11ms/step - loss: 1.2831 - accuracy: 0.5638 - val_loss: 1.2375 - val_accuracy: 0.5874\n",
            "Epoch 4/40\n",
            "313/313 [==============================] - 3s 10ms/step - loss: 1.1286 - accuracy: 0.6097 - val_loss: 1.1071 - val_accuracy: 0.6312\n",
            "Epoch 5/40\n",
            "313/313 [==============================] - 3s 11ms/step - loss: 1.0235 - accuracy: 0.6441 - val_loss: 1.0002 - val_accuracy: 0.6583\n",
            "Epoch 6/40\n",
            "313/313 [==============================] - 3s 10ms/step - loss: 0.9578 - accuracy: 0.6652 - val_loss: 1.0782 - val_accuracy: 0.6362\n",
            "Epoch 7/40\n",
            "313/313 [==============================] - 3s 10ms/step - loss: 0.9085 - accuracy: 0.6820 - val_loss: 1.0137 - val_accuracy: 0.6591\n",
            "Epoch 8/40\n",
            "313/313 [==============================] - 3s 10ms/step - loss: 0.8826 - accuracy: 0.6895 - val_loss: 0.9189 - val_accuracy: 0.6856\n",
            "Epoch 9/40\n",
            "313/313 [==============================] - 3s 11ms/step - loss: 0.8501 - accuracy: 0.7010 - val_loss: 0.8972 - val_accuracy: 0.6941\n",
            "Epoch 10/40\n",
            "313/313 [==============================] - 3s 10ms/step - loss: 0.8293 - accuracy: 0.7090 - val_loss: 0.9053 - val_accuracy: 0.6923\n",
            "Epoch 11/40\n",
            "313/313 [==============================] - 3s 10ms/step - loss: 0.8050 - accuracy: 0.7179 - val_loss: 0.8519 - val_accuracy: 0.7052\n",
            "Epoch 12/40\n",
            "313/313 [==============================] - 3s 10ms/step - loss: 0.7825 - accuracy: 0.7269 - val_loss: 0.8959 - val_accuracy: 0.6951\n",
            "Epoch 13/40\n",
            "313/313 [==============================] - 3s 11ms/step - loss: 0.7689 - accuracy: 0.7298 - val_loss: 0.8803 - val_accuracy: 0.6992\n",
            "Epoch 14/40\n",
            "313/313 [==============================] - 3s 11ms/step - loss: 0.7530 - accuracy: 0.7367 - val_loss: 0.8842 - val_accuracy: 0.6996\n",
            "Epoch 15/40\n",
            "313/313 [==============================] - 3s 10ms/step - loss: 0.7437 - accuracy: 0.7374 - val_loss: 0.8823 - val_accuracy: 0.6980\n",
            "Epoch 16/40\n",
            "313/313 [==============================] - 3s 11ms/step - loss: 0.7247 - accuracy: 0.7441 - val_loss: 0.8295 - val_accuracy: 0.7174\n",
            "Epoch 17/40\n",
            "313/313 [==============================] - 3s 10ms/step - loss: 0.7184 - accuracy: 0.7498 - val_loss: 0.8523 - val_accuracy: 0.7126\n",
            "Epoch 18/40\n",
            "313/313 [==============================] - 3s 9ms/step - loss: 0.6982 - accuracy: 0.7564 - val_loss: 0.8521 - val_accuracy: 0.7161\n",
            "Epoch 19/40\n",
            "313/313 [==============================] - 3s 9ms/step - loss: 0.6924 - accuracy: 0.7564 - val_loss: 0.8984 - val_accuracy: 0.7014\n",
            "Epoch 20/40\n",
            "313/313 [==============================] - 3s 11ms/step - loss: 0.6793 - accuracy: 0.7601 - val_loss: 0.8190 - val_accuracy: 0.7245\n",
            "Epoch 21/40\n",
            "313/313 [==============================] - 3s 10ms/step - loss: 0.6666 - accuracy: 0.7651 - val_loss: 0.7712 - val_accuracy: 0.7402\n",
            "Epoch 22/40\n",
            "313/313 [==============================] - 3s 10ms/step - loss: 0.6678 - accuracy: 0.7638 - val_loss: 0.8025 - val_accuracy: 0.7269\n",
            "Epoch 23/40\n",
            "313/313 [==============================] - 3s 10ms/step - loss: 0.6521 - accuracy: 0.7684 - val_loss: 0.7855 - val_accuracy: 0.7305\n",
            "Epoch 24/40\n",
            "313/313 [==============================] - 4s 12ms/step - loss: 0.6471 - accuracy: 0.7721 - val_loss: 0.7783 - val_accuracy: 0.7413\n",
            "Epoch 25/40\n",
            "313/313 [==============================] - 3s 10ms/step - loss: 0.6411 - accuracy: 0.7756 - val_loss: 0.8023 - val_accuracy: 0.7281\n",
            "Epoch 26/40\n",
            "313/313 [==============================] - 3s 10ms/step - loss: 0.6308 - accuracy: 0.7750 - val_loss: 0.7692 - val_accuracy: 0.7391\n",
            "Epoch 27/40\n",
            "313/313 [==============================] - 3s 9ms/step - loss: 0.6232 - accuracy: 0.7796 - val_loss: 0.7685 - val_accuracy: 0.7439\n",
            "Epoch 28/40\n",
            "313/313 [==============================] - 3s 11ms/step - loss: 0.6183 - accuracy: 0.7797 - val_loss: 0.7822 - val_accuracy: 0.7365\n",
            "Epoch 29/40\n",
            "313/313 [==============================] - 4s 11ms/step - loss: 0.6164 - accuracy: 0.7826 - val_loss: 0.7533 - val_accuracy: 0.7489\n",
            "Epoch 30/40\n",
            "313/313 [==============================] - 3s 10ms/step - loss: 0.6030 - accuracy: 0.7855 - val_loss: 0.8219 - val_accuracy: 0.7306\n",
            "Epoch 31/40\n",
            "313/313 [==============================] - 3s 10ms/step - loss: 0.6033 - accuracy: 0.7864 - val_loss: 0.7810 - val_accuracy: 0.7401\n",
            "Epoch 32/40\n",
            "313/313 [==============================] - 4s 12ms/step - loss: 0.5979 - accuracy: 0.7875 - val_loss: 0.7867 - val_accuracy: 0.7424\n",
            "Epoch 33/40\n",
            "313/313 [==============================] - 3s 11ms/step - loss: 0.5838 - accuracy: 0.7939 - val_loss: 0.7754 - val_accuracy: 0.7489\n",
            "Epoch 34/40\n",
            "313/313 [==============================] - 3s 10ms/step - loss: 0.5909 - accuracy: 0.7901 - val_loss: 0.7898 - val_accuracy: 0.7411\n"
          ]
        }
      ]
    },
    {
      "cell_type": "code",
      "source": [
        "print(model.evaluate(X_test, Y_test))"
      ],
      "metadata": {
        "id": "nS4emRFmZchG",
        "colab": {
          "base_uri": "https://localhost:8080/"
        },
        "outputId": "25ff33c7-713e-4b3c-9f6a-1c67d3746f03"
      },
      "execution_count": null,
      "outputs": [
        {
          "output_type": "stream",
          "name": "stdout",
          "text": [
            "313/313 [==============================] - 1s 4ms/step - loss: 0.7735 - accuracy: 0.7430\n",
            "[0.7734896540641785, 0.7429999709129333]\n"
          ]
        }
      ]
    },
    {
      "cell_type": "markdown",
      "source": [
        "# 3. Exercise: evaluation on test data\n",
        "You will evaluate the classification of the test data using the common metrics and the confusion matrix in this section.\n",
        "\n",
        "\n",
        "As a first stes, let's run the predictions and convert the predicted softmax outputs to dense labels. The one-hot encoded labels are also converted back to dense labels, as they are required for the evaluation functions."
      ],
      "metadata": {
        "id": "2FtKp-a2-A9m"
      }
    },
    {
      "cell_type": "code",
      "source": [
        "probas = model.predict(X_test)\n",
        "preds  = np.argmax(probas,axis=1)\n",
        "Y_test_dense = np.argmax(Y_test, axis=1) # get the original dense labels of the test data"
      ],
      "metadata": {
        "id": "EcWAqwlDMq3y",
        "colab": {
          "base_uri": "https://localhost:8080/"
        },
        "outputId": "639b7da5-7f87-4550-ba65-d548011c4f64"
      },
      "execution_count": null,
      "outputs": [
        {
          "output_type": "stream",
          "name": "stdout",
          "text": [
            "313/313 [==============================] - 1s 3ms/step\n"
          ]
        }
      ]
    },
    {
      "cell_type": "markdown",
      "source": [
        "## 3.1. Exercise: Metrics\n",
        "please review the common classification metrics (accuracy, precision, recall, F1) for the complete model (not per class).\n",
        "\n",
        "Hints:\n",
        "* use macro averaging\n",
        "* you have to import the right functions from [sklearn.metrics](https://scikit-learn.org/stable/modules/model_evaluation.html)\n"
      ],
      "metadata": {
        "id": "RWJ-PH_iMs9K"
      }
    },
    {
      "cell_type": "code",
      "source": [
        "from sklearn.metrics import accuracy_score, precision_score, f1_score, recall_score"
      ],
      "metadata": {
        "id": "5sKm5zHSMZ_x"
      },
      "execution_count": null,
      "outputs": []
    },
    {
      "cell_type": "code",
      "source": [
        "print(\"Accuracy:\", accuracy_score(Y_test_dense, preds))\n",
        "print(\"Precision:\", precision_score(Y_test_dense, preds, average='macro'))\n",
        "print(\"Recall:\", recall_score(Y_test_dense, preds, average='macro'))\n",
        "print(\"F1:\", f1_score(Y_test_dense, preds, average='macro'))"
      ],
      "metadata": {
        "id": "I3_9wgDREUna",
        "colab": {
          "base_uri": "https://localhost:8080/"
        },
        "outputId": "4f6f2f0b-24c8-4d0c-a6a8-3c95f2b2067f"
      },
      "execution_count": null,
      "outputs": [
        {
          "output_type": "stream",
          "name": "stdout",
          "text": [
            "Accuracy: 0.743\n",
            "Precision: 0.7415882752906838\n",
            "Recall: 0.743\n",
            "F1: 0.7407742988830599\n"
          ]
        }
      ]
    },
    {
      "cell_type": "markdown",
      "source": [
        "\n",
        "## 3.2. Exercise: Confusion matrix\n",
        "Calculate the confusion matrix and display the results in a heatmap (with decimal values).\n",
        "\n",
        "Hints:\n",
        "* you have to do the imports this time too, e.g. from [sklearn.metrics](https://scikit-learn.org/stable/modules/model_evaluation.html) and the [heatmap function](https://seaborn.pydata.org/generated/seaborn.heatmap.html) of [seaborn](https://seaborn.pydata.org/)\n",
        "* for displaying the decimal values, you have to turn annot=True and define fmt='d' in the heatmap function of seaborn"
      ],
      "metadata": {
        "id": "ECHguBFtGL7f"
      }
    },
    {
      "cell_type": "code",
      "source": [
        "from sklearn.metrics import confusion_matrix\n",
        "import seaborn as sns"
      ],
      "metadata": {
        "id": "SIi2VzMBO3yD"
      },
      "execution_count": null,
      "outputs": []
    },
    {
      "cell_type": "code",
      "metadata": {
        "id": "cdqODx92Svw7",
        "colab": {
          "base_uri": "https://localhost:8080/",
          "height": 546
        },
        "outputId": "cebc5f57-947d-42b2-c163-75feb0758453"
      },
      "source": [
        "conf = confusion_matrix(Y_test_dense,preds)\n",
        "plt.figure(figsize=(7,6))\n",
        "sns.heatmap(conf,annot=True,fmt=\"2d\", vmax=100)"
      ],
      "execution_count": null,
      "outputs": [
        {
          "output_type": "execute_result",
          "data": {
            "text/plain": [
              "<Axes: >"
            ]
          },
          "metadata": {},
          "execution_count": 20
        },
        {
          "output_type": "display_data",
          "data": {
            "text/plain": [
              "<Figure size 700x600 with 2 Axes>"
            ],
            "image/png": "[encoded data removed]"
          },
          "metadata": {}
        }
      ]
    },
    {
      "cell_type": "code",
      "source": [],
      "metadata": {
        "id": "nZ2j6l-wfCWj"
      },
      "execution_count": null,
      "outputs": []
    }
  ]
}